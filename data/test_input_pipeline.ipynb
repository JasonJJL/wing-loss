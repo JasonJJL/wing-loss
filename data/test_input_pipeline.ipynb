{
 "cells": [
  {
   "cell_type": "code",
   "execution_count": null,
   "metadata": {},
   "outputs": [],
   "source": [
    "%load_ext autoreload\n",
    "%autoreload 2"
   ]
  },
  {
   "cell_type": "code",
   "execution_count": null,
   "metadata": {},
   "outputs": [],
   "source": [
    "import tensorflow as tf\n",
    "import numpy as np\n",
    "from PIL import Image, ImageDraw\n",
    "import json\n",
    "\n",
    "import sys\n",
    "sys.path.append('..')\n",
    "from input_pipeline import Pipeline"
   ]
  },
  {
   "cell_type": "markdown",
   "metadata": {},
   "source": [
    "# Get images and boxes"
   ]
  },
  {
   "cell_type": "code",
   "execution_count": null,
   "metadata": {
    "scrolled": false
   },
   "outputs": [],
   "source": [
    "tf.reset_default_graph()\n",
    "\n",
    "pipeline = Pipeline(\n",
    "    ['/mnt/datasets/dan/CelebA/train_shards/shard-0000.tfrecords'],\n",
    "    batch_size=100, image_size=(64, 64),\n",
    "    num_landmarks=5, repeat=True, \n",
    "    shuffle=False, augmentation=True\n",
    ")\n",
    "\n",
    "dataset = pipeline.dataset\n",
    "iterator = tf.data.Iterator.from_structure(dataset.output_types, dataset.output_shapes)\n",
    "init = iterator.make_initializer(dataset)\n",
    "features, labels = iterator.get_next()"
   ]
  },
  {
   "cell_type": "code",
   "execution_count": null,
   "metadata": {},
   "outputs": [],
   "source": [
    "with tf.Session() as sess:\n",
    "    sess.run(init)\n",
    "    I, L = sess.run([features, labels])"
   ]
  },
  {
   "cell_type": "markdown",
   "metadata": {},
   "source": [
    "# Show an augmented image"
   ]
  },
  {
   "cell_type": "code",
   "execution_count": null,
   "metadata": {},
   "outputs": [],
   "source": [
    "def draw_on_image(image, keypoints):\n",
    "\n",
    "    image_copy = image.copy()\n",
    "    draw = ImageDraw.Draw(image_copy, 'RGBA')\n",
    "    \n",
    "    for i, (y, x) in enumerate(keypoints):\n",
    "        draw.ellipse([\n",
    "            (x - 1.0, y - 1.0),\n",
    "            (x + 1.0, y + 1.0)\n",
    "        ], outline='red')\n",
    "        draw.text((x, y), text=str(i), fill='blue')\n",
    "\n",
    "    return image_copy"
   ]
  },
  {
   "cell_type": "code",
   "execution_count": null,
   "metadata": {},
   "outputs": [],
   "source": [
    "# choose an image\n",
    "i = 0\n",
    "image = Image.fromarray((I[i]*255.0).astype('uint8'))\n",
    "w, h = image.size\n",
    "keypoints = L[i]*np.array([h, w])\n",
    "draw_on_image(image, keypoints)"
   ]
  }
 ],
 "metadata": {
  "kernelspec": {
   "display_name": "Python 3",
   "language": "python",
   "name": "python3"
  },
  "language_info": {
   "codemirror_mode": {
    "name": "ipython",
    "version": 3
   },
   "file_extension": ".py",
   "mimetype": "text/x-python",
   "name": "python",
   "nbconvert_exporter": "python",
   "pygments_lexer": "ipython3",
   "version": "3.6.3"
  }
 },
 "nbformat": 4,
 "nbformat_minor": 2
}
