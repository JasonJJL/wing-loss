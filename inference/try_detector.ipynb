{
 "cells": [
  {
   "cell_type": "code",
   "execution_count": null,
   "metadata": {},
   "outputs": [],
   "source": [
    "%load_ext autoreload\n",
    "%autoreload 2"
   ]
  },
  {
   "cell_type": "code",
   "execution_count": null,
   "metadata": {},
   "outputs": [],
   "source": [
    "import numpy as np\n",
    "from PIL import Image, ImageDraw\n",
    "import os\n",
    "import cv2\n",
    "import random\n",
    "import json\n",
    "import time\n",
    "\n",
    "from landmark_detector import KeypointDetector\n",
    "from face_detector import FaceDetector\n",
    "# this face detector is taken from here\n",
    "# https://github.com/TropComplique/FaceBoxes-tensorflow\n",
    "# (facial keypoints detector will be trained to work well with this detector)"
   ]
  },
  {
   "cell_type": "code",
   "execution_count": null,
   "metadata": {},
   "outputs": [],
   "source": [
    "DATA_DIR = '/mnt/datasets/dan/CelebA/val/'\n",
    "MODEL_PATH = '../model.pb'"
   ]
  },
  {
   "cell_type": "code",
   "execution_count": null,
   "metadata": {},
   "outputs": [],
   "source": [
    "keypoint_detector = KeypointDetector(MODEL_PATH, gpu_memory_fraction=0.25, visible_device_list='1')\n",
    "face_detector = FaceDetector('model-step-240000.pb', visible_device_list='1')"
   ]
  },
  {
   "cell_type": "markdown",
   "metadata": {},
   "source": [
    "# Get images and bounding boxes"
   ]
  },
  {
   "cell_type": "code",
   "execution_count": null,
   "metadata": {},
   "outputs": [],
   "source": [
    "metadata = []\n",
    "NUM_ANNOTATIONS = 1000\n",
    "for n in os.listdir(os.path.join(DATA_DIR, 'annotations'))[:NUM_ANNOTATIONS]:\n",
    "    a = json.load(open(os.path.join(DATA_DIR, 'annotations', n)))\n",
    "    image_name = a['filename']\n",
    "    path = os.path.join(DATA_DIR, 'images', image_name)\n",
    "    box = a['box']\n",
    "    metadata.append((path, box))"
   ]
  },
  {
   "cell_type": "markdown",
   "metadata": {},
   "source": [
    "# Show detections"
   ]
  },
  {
   "cell_type": "code",
   "execution_count": null,
   "metadata": {},
   "outputs": [],
   "source": [
    "def draw_on_image(image, keypoints, box):\n",
    "\n",
    "    image_copy = image.copy()\n",
    "    draw = ImageDraw.Draw(image_copy, 'RGBA')\n",
    "    \n",
    "    ymin, xmin, ymax, xmax = box\n",
    "    fill = (255, 0, 0, 45)\n",
    "    outline = 'red'\n",
    "    draw.rectangle(\n",
    "        [(xmin, ymin), (xmax, ymax)],\n",
    "        fill=fill, outline=outline\n",
    "    )\n",
    "\n",
    "    for y, x in keypoints:\n",
    "        draw.ellipse([\n",
    "            (x - 2.5, y - 2.5),\n",
    "            (x + 2.5, y + 2.5)\n",
    "        ], outline='blue')\n",
    "\n",
    "    return image_copy"
   ]
  },
  {
   "cell_type": "code",
   "execution_count": null,
   "metadata": {},
   "outputs": [],
   "source": [
    "def get_crop(image_array):\n",
    "    \n",
    "    image_h, image_w, _ = image_array.shape\n",
    "    box, _ = face_detector(image_array)\n",
    "\n",
    "    ymin, xmin, ymax, xmax = box[0]\n",
    "    h, w = ymax - ymin, xmax - xmin\n",
    "    margin_y, margin_x = h / 6.0, w / 6.0\n",
    "    ymin, xmin = ymin - 0.5 * margin_y, xmin - 0.5 * margin_x\n",
    "    ymax, xmax = ymax + 0.5 * margin_y, xmax + 0.5 * margin_x\n",
    "    ymin, xmin = np.maximum(int(ymin), 0), np.maximum(int(xmin), 0)\n",
    "    ymax, xmax = np.minimum(int(ymax), image_h), np.minimum(int(xmax), image_w)\n",
    "    \n",
    "    crop = image_array[ymin:ymax, xmin:xmax, :]\n",
    "    crop = cv2.resize(crop, (64, 64))\n",
    "    return crop, [ymin, xmin, ymax, xmax]"
   ]
  },
  {
   "cell_type": "code",
   "execution_count": null,
   "metadata": {},
   "outputs": [],
   "source": [
    "i = random.randint(0, len(metadata) - 1)\n",
    "\n",
    "# load and preprocess an image\n",
    "image_array = cv2.imread(metadata[i][0])\n",
    "image_array = cv2.cvtColor(image_array, cv2.COLOR_BGR2RGB)\n",
    "\n",
    "crop, box = get_crop(image_array)\n",
    "Image.fromarray(crop)"
   ]
  },
  {
   "cell_type": "code",
   "execution_count": null,
   "metadata": {
    "scrolled": false
   },
   "outputs": [],
   "source": [
    "keypoints = keypoint_detector(crop)\n",
    "\n",
    "ymin, xmin, ymax, xmax = box\n",
    "h, w = ymax - ymin, xmax - xmin\n",
    "scaler = np.array([h/64.0, w/64.0])\n",
    "keypoints = (keypoints*scaler) + box[:2]\n",
    "\n",
    "draw_on_image(Image.fromarray(image_array), keypoints, box)"
   ]
  },
  {
   "cell_type": "markdown",
   "metadata": {},
   "source": [
    "# Measure speed"
   ]
  },
  {
   "cell_type": "code",
   "execution_count": null,
   "metadata": {},
   "outputs": [],
   "source": [
    "times = []\n",
    "for _ in range(110):\n",
    "    start = time.perf_counter()\n",
    "    _ = keypoint_detector(crop)\n",
    "    times.append(time.perf_counter() - start)\n",
    "    \n",
    "times = np.array(times)\n",
    "times = times[10:]\n",
    "print(times.mean(), times.std())"
   ]
  },
  {
   "cell_type": "code",
   "execution_count": null,
   "metadata": {},
   "outputs": [],
   "source": []
  }
 ],
 "metadata": {
  "kernelspec": {
   "display_name": "Python 3",
   "language": "python",
   "name": "python3"
  },
  "language_info": {
   "codemirror_mode": {
    "name": "ipython",
    "version": 3
   },
   "file_extension": ".py",
   "mimetype": "text/x-python",
   "name": "python",
   "nbconvert_exporter": "python",
   "pygments_lexer": "ipython3",
   "version": "3.6.3"
  }
 },
 "nbformat": 4,
 "nbformat_minor": 1
}
